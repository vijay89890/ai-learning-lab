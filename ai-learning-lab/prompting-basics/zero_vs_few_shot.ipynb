{
 "cells": [
  {
   "cell_type": "markdown",
   "id": "4b4c3a20",
   "metadata": {},
   "source": [
    "\n",
    "# Prompting Basics — Zero-shot vs Few-shot\n",
    "\n",
    "**What you'll do**\n",
    "- Compare zero-shot and few-shot prompts on the same task\n",
    "- Log results side-by-side and write short observations\n",
    "\n",
    "> Tip: Keep examples consistent and only change one thing at a time.\n"
   ]
  },
  {
   "cell_type": "code",
   "execution_count": null,
   "id": "1d95f38f",
   "metadata": {},
   "outputs": [],
   "source": [
    "\n",
    "# (Optional) Install deps in colab-like environments\n",
    "# %pip install -q openai python-dotenv\n",
    "\n",
    "import os\n",
    "from dotenv import load_dotenv\n",
    "\n",
    "load_dotenv()\n",
    "\n",
    "USE_OPENAI = bool(os.getenv(\"OPENAI_API_KEY\"))\n",
    "if USE_OPENAI:\n",
    "    from openai import OpenAI\n",
    "    client = OpenAI()\n",
    "else:\n",
    "    client = None\n",
    "\n",
    "def llm(prompt, system=\"You are a helpful assistant.\"):\n",
    "    \"\"\"Wrapper for LLM calls. Falls back to a mock if no API key.\"\"\"\n",
    "    if client is None:\n",
    "        return f\"[MOCK OUTPUT]\\nYou asked: {prompt[:200]}...\\n(Add OPENAI_API_KEY in .env to see real outputs.)\"\n",
    "    # Chat Completions style (stable & simple)\n",
    "    resp = client.chat.completions.create(\n",
    "        model=\"gpt-4o-mini\",\n",
    "        messages=[\n",
    "            {\"role\": \"system\", \"content\": system},\n",
    "            {\"role\": \"user\", \"content\": prompt}\n",
    "        ],\n",
    "        temperature=0.7\n",
    "    )\n",
    "    return resp.choices[0].message.content\n"
   ]
  },
  {
   "cell_type": "markdown",
   "id": "27492303",
   "metadata": {},
   "source": [
    "\n",
    "## Task: Summarize a movie plot\n",
    "We'll try zero-shot first, then add few-shot examples.\n"
   ]
  },
  {
   "cell_type": "code",
   "execution_count": null,
   "id": "84f8edb1",
   "metadata": {},
   "outputs": [],
   "source": [
    "\n",
    "task_instruction = \"Summarize the plot of the movie 'Spirited Away' in 3 bullet points.\"\n",
    "\n",
    "print(\"=== Zero-shot ===\")\n",
    "zero_shot_answer = llm(task_instruction)\n",
    "print(zero_shot_answer)\n"
   ]
  },
  {
   "cell_type": "code",
   "execution_count": null,
   "id": "9eaafb3d",
   "metadata": {},
   "outputs": [],
   "source": [
    "\n",
    "few_shot_examples = \"\"\"\n",
    "Example:\n",
    "Movie: The Matrix\n",
    "Summary (3 bullets):\n",
    "- A hacker discovers reality is a simulation controlled by machines.\n",
    "- He learns to bend simulation rules under a mentor named Morpheus.\n",
    "- As 'The One', he fights agents to free humanity.\n",
    "\n",
    "Example:\n",
    "Movie: Finding Nemo\n",
    "Summary (3 bullets):\n",
    "- A clownfish crosses the ocean to find his missing son.\n",
    "- Along the way, he faces dangers and learns to trust others.\n",
    "- Reunion comes after teamwork and perseverance.\n",
    "\"\"\"\n",
    "\n",
    "few_shot_prompt = f\"\"\"\n",
    "{few_shot_examples}\n",
    "\n",
    "Now follow the same style and constraints.\n",
    "\n",
    "Movie: Spirited Away\n",
    "Summary (3 bullets):\n",
    "\"\"\"\n",
    "\n",
    "print(\"=== Few-shot ===\")\n",
    "few_shot_answer = llm(few_shot_prompt)\n",
    "print(few_shot_answer)\n"
   ]
  },
  {
   "cell_type": "markdown",
   "id": "3e441a0f",
   "metadata": {},
   "source": [
    "\n",
    "### Notes & Observations\n",
    "Use this section to write 3–5 bullets comparing outputs (formatting, detail, style, correctness).\n"
   ]
  }
 ],
 "metadata": {},
 "nbformat": 4,
 "nbformat_minor": 5
}
