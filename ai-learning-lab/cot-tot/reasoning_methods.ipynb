{
 "cells": [
  {
   "cell_type": "markdown",
   "id": "5b950d41",
   "metadata": {},
   "source": [
    "\n",
    "# Chain-of-Thought (CoT) & Tiny Tree-of-Thought (ToT)\n",
    "\n",
    "**What you'll do**\n",
    "- Prompt a step-by-step explanation (CoT)\n",
    "- Try a tiny ToT by exploring multiple solution paths and choosing the best\n"
   ]
  },
  {
   "cell_type": "code",
   "execution_count": null,
   "id": "85d42024",
   "metadata": {},
   "outputs": [],
   "source": [
    "\n",
    "import os, math\n",
    "from dotenv import load_dotenv\n",
    "load_dotenv()\n",
    "\n",
    "USE_OPENAI = bool(os.getenv(\"OPENAI_API_KEY\"))\n",
    "if USE_OPENAI:\n",
    "    from openai import OpenAI\n",
    "    client = OpenAI()\n",
    "else:\n",
    "    client = None\n",
    "\n",
    "def llm(prompt, system=\"You are a careful math tutor.\"):\n",
    "    if client is None:\n",
    "        return f\"[MOCK OUTPUT]\\n{prompt[:220]}...\\n(Add OPENAI_API_KEY in .env to see real outputs.)\"\n",
    "    resp = client.chat.completions.create(\n",
    "        model=\"gpt-4o-mini\",\n",
    "        messages=[{\"role\":\"system\",\"content\":system},{\"role\":\"user\",\"content\":prompt}],\n",
    "        temperature=0.2\n",
    "    )\n",
    "    return resp.choices[0].message.content\n"
   ]
  },
  {
   "cell_type": "markdown",
   "id": "81af7a29",
   "metadata": {},
   "source": [
    "\n",
    "## Example problem (word math)\n",
    "*\"A pen costs ₹12 and a notebook costs ₹35. If I buy 3 pens and 2 notebooks, how much do I spend in total?\"*\n"
   ]
  },
  {
   "cell_type": "code",
   "execution_count": null,
   "id": "8894be0b",
   "metadata": {},
   "outputs": [],
   "source": [
    "\n",
    "problem = \"A pen costs ₹12 and a notebook costs ₹35. If I buy 3 pens and 2 notebooks, how much do I spend in total?\"\n",
    "normal_answer = llm(f\"Answer concisely: {problem}\")\n",
    "cot_answer = llm(f\"Solve step-by-step, show calculations clearly, then give the final answer in INR: {problem}\")\n",
    "\n",
    "print(\"=== Normal ===\\n\", normal_answer, \"\\n\")\n",
    "print(\"=== CoT (step-by-step) ===\\n\", cot_answer)\n"
   ]
  },
  {
   "cell_type": "markdown",
   "id": "0dab2ca2",
   "metadata": {},
   "source": [
    "\n",
    "## Tiny ToT: explore multiple solution paths\n",
    "We'll nudge the model to propose 3 solution outlines, evaluate them, and pick the best.\n"
   ]
  },
  {
   "cell_type": "code",
   "execution_count": null,
   "id": "99f51b11",
   "metadata": {},
   "outputs": [],
   "source": [
    "\n",
    "# Generate candidate solution paths\n",
    "paths = llm(f\"\"\"Propose 3 distinct solution outlines for this problem:\n",
    "{problem}\n",
    "For each outline, list the steps briefly and a confidence score (0-1).\"\"\")\n",
    "print(paths)\n"
   ]
  },
  {
   "cell_type": "code",
   "execution_count": null,
   "id": "1e15e401",
   "metadata": {},
   "outputs": [],
   "source": [
    "\n",
    "# Ask the model to choose the best path and finalize an answer\n",
    "final = llm(f\"\"\"You proposed these solution outlines:\n",
    "{paths}\n",
    "\n",
    "Pick the best path, explain why briefly, then compute the final numeric answer with steps.\n",
    "Finally, restate the answer in INR.\"\"\")\n",
    "print(final)\n"
   ]
  },
  {
   "cell_type": "markdown",
   "id": "d8b6d965",
   "metadata": {},
   "source": [
    "\n",
    "### Notes & Observations\n",
    "Where did CoT/ToT help? Where did it overthink? Add 3–5 bullets.\n"
   ]
  }
 ],
 "metadata": {},
 "nbformat": 4,
 "nbformat_minor": 5
}
